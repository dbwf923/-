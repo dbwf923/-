{
 "cells": [
  {
   "cell_type": "code",
   "execution_count": 1,
   "id": "6be0d0bd-f999-476d-8013-5677dd7edb40",
   "metadata": {},
   "outputs": [],
   "source": [
    "import pandas as pd\n",
    "import re\n",
    "import jieba\n",
    "import datetime"
   ]
  },
  {
   "cell_type": "code",
   "execution_count": 2,
   "id": "09e8c7fd-69e0-470b-91da-1cb87bfd1dd7",
   "metadata": {},
   "outputs": [
    {
     "name": "stdout",
     "output_type": "stream",
     "text": [
      "4396378\n"
     ]
    }
   ],
   "source": [
    "# 导入数据\n",
    "df = pd.read_csv(\"data.csv\",encoding=\"utf-8\")\n",
    "total_words = df['评论'].str.len().sum()\n",
    "print(total_words)"
   ]
  },
  {
   "cell_type": "code",
   "execution_count": 3,
   "id": "8d1221fd-7583-458f-84bb-117fe0147295",
   "metadata": {},
   "outputs": [],
   "source": [
    "# 清除非中文文本\n",
    "df['评论'] = df['评论'].apply(lambda x: re.sub('[^\\u4e00-\\u9fff]', '', x))"
   ]
  },
  {
   "cell_type": "code",
   "execution_count": 4,
   "id": "b547baf4-53a5-4c17-ba61-cba07dbc2f4b",
   "metadata": {},
   "outputs": [
    {
     "name": "stderr",
     "output_type": "stream",
     "text": [
      "Building prefix dict from the default dictionary ...\n",
      "Loading model from cache C:\\Users\\余明鑫\\AppData\\Local\\Temp\\jieba.cache\n"
     ]
    },
    {
     "name": "stdout",
     "output_type": "stream",
     "text": [
      "停用词数量：1621\n"
     ]
    },
    {
     "name": "stderr",
     "output_type": "stream",
     "text": [
      "Loading model cost 0.797 seconds.\n",
      "Prefix dict has been built successfully.\n"
     ]
    },
    {
     "name": "stdout",
     "output_type": "stream",
     "text": [
      "2393101\n"
     ]
    }
   ],
   "source": [
    "# 读入停用词档，并去除停用词前后空白、换行符\n",
    "stopwords=open('stopwords.txt',\"r\",encoding='UTF-8').readlines()\n",
    "stopwords = [s.strip() for s in stopwords]\n",
    "print('停用词数量：' + str(len(stopwords)))\n",
    "# 分词\n",
    "for i in range(len(df)):\n",
    "    #1.从 DataFrame 逐条读入 清理后的新闻的内容\n",
    "    content = df.评论[i]\n",
    "    #2.对新闻的内容进行分词\n",
    "    words = jieba.lcut(content)    \n",
    "    #3.去除 停用词 及 单词\n",
    "    word_cut_stopwords = words\n",
    "    for w in stopwords:\n",
    "        for j in range(len(word_cut_stopwords)-1, -1, -1):\n",
    "            if ((len(str(word_cut_stopwords[j])) == 1) or \\\n",
    "                (word_cut_stopwords[j] == w)):\n",
    "                word_cut_stopwords.pop(j) \n",
    "\n",
    "    df.loc[i, '分词后内容'] = ' '.join(word_cut_stopwords)\n",
    "\n",
    "new_total_words = df['分词后内容'].str.len().sum()\n",
    "print(new_total_words)"
   ]
  },
  {
   "cell_type": "code",
   "execution_count": 5,
   "id": "99bf93bd-7f5d-4927-a943-f497110de25b",
   "metadata": {},
   "outputs": [
    {
     "data": {
      "text/html": [
       "<div>\n",
       "<style scoped>\n",
       "    .dataframe tbody tr th:only-of-type {\n",
       "        vertical-align: middle;\n",
       "    }\n",
       "\n",
       "    .dataframe tbody tr th {\n",
       "        vertical-align: top;\n",
       "    }\n",
       "\n",
       "    .dataframe thead th {\n",
       "        text-align: right;\n",
       "    }\n",
       "</style>\n",
       "<table border=\"1\" class=\"dataframe\">\n",
       "  <thead>\n",
       "    <tr style=\"text-align: right;\">\n",
       "      <th></th>\n",
       "      <th>歌名</th>\n",
       "      <th>评论</th>\n",
       "      <th>分词后内容</th>\n",
       "    </tr>\n",
       "  </thead>\n",
       "  <tbody>\n",
       "    <tr>\n",
       "      <th>count</th>\n",
       "      <td>165181</td>\n",
       "      <td>165181</td>\n",
       "      <td>165181</td>\n",
       "    </tr>\n",
       "    <tr>\n",
       "      <th>unique</th>\n",
       "      <td>3</td>\n",
       "      <td>121803</td>\n",
       "      <td>97646</td>\n",
       "    </tr>\n",
       "    <tr>\n",
       "      <th>top</th>\n",
       "      <td>孤独患者</td>\n",
       "      <td>加油</td>\n",
       "      <td>加油</td>\n",
       "    </tr>\n",
       "    <tr>\n",
       "      <th>freq</th>\n",
       "      <td>56084</td>\n",
       "      <td>4350</td>\n",
       "      <td>5183</td>\n",
       "    </tr>\n",
       "  </tbody>\n",
       "</table>\n",
       "</div>"
      ],
      "text/plain": [
       "            歌名      评论   分词后内容\n",
       "count   165181  165181  165181\n",
       "unique       3  121803   97646\n",
       "top       孤独患者      加油      加油\n",
       "freq     56084    4350    5183"
      ]
     },
     "execution_count": 5,
     "metadata": {},
     "output_type": "execute_result"
    }
   ],
   "source": [
    "# 删除空值的行\n",
    "df['分词后内容'] = df['分词后内容'].replace('', None)\n",
    "df = df.dropna(subset=['分词后内容'])\n",
    "df = df.reset_index(drop=True)\n",
    "df.describe()"
   ]
  },
  {
   "cell_type": "code",
   "execution_count": null,
   "id": "61216f86-e980-4b6a-8c28-73ee3a33a109",
   "metadata": {},
   "outputs": [],
   "source": [
    "# 将全部分词后的内容存入 Excel 档\n",
    "df.to_excel('data分词后.xlsx', header=True)"
   ]
  }
 ],
 "metadata": {
  "kernelspec": {
   "display_name": "Python 3 (ipykernel)",
   "language": "python",
   "name": "python3"
  },
  "language_info": {
   "codemirror_mode": {
    "name": "ipython",
    "version": 3
   },
   "file_extension": ".py",
   "mimetype": "text/x-python",
   "name": "python",
   "nbconvert_exporter": "python",
   "pygments_lexer": "ipython3",
   "version": "3.11.7"
  }
 },
 "nbformat": 4,
 "nbformat_minor": 5
}
