{
 "cells": [
  {
   "cell_type": "code",
   "execution_count": null,
   "id": "985cac7d-07f4-4292-b1c8-591a71a5ac2a",
   "metadata": {},
   "outputs": [],
   "source": [
    "import nltk\n",
    "from nltk.corpus import stopwords\n",
    "from nltk.tokenize import word_tokenize\n",
    "from gensim import corpora\n",
    "from gensim.models import LdaModel\n",
    "import pandas as pd\n",
    "import datetime"
   ]
  },
  {
   "cell_type": "markdown",
   "id": "a2953602-5b4b-46b0-8c36-3a4bbb5eb2c0",
   "metadata": {},
   "source": [
    "## 主题分析"
   ]
  },
  {
   "cell_type": "code",
   "execution_count": null,
   "id": "6bf09150-3909-4932-8642-1792020c8c02",
   "metadata": {},
   "outputs": [],
   "source": [
    "df = pd.read_excel('data分词后.xlsx', header=0)\n",
    "all_texts = [] # 创建一个空列表来存储句子\n",
    "all_words = [] # 创建一个空列表来存储词语\n",
    "for i in range(len(df)):\n",
    "    content = df.分词后内容[i]\n",
    "    all_texts.append(content)\n",
    "    all_words.append(content.split(' '))"
   ]
  },
  {
   "cell_type": "code",
   "execution_count": null,
   "id": "90b4fb1b-320b-49d9-9265-2bcfbded6f6b",
   "metadata": {},
   "outputs": [],
   "source": [
    "print('开始时间：' + str(datetime.datetime.now()))\n",
    "dictionary = corpora.Dictionary(all_words)\n",
    "corpus = [dictionary.doc2bow(comment) for comment in all_words]\n",
    " \n",
    "# 设置LDA模型的参数\n",
    "num_topics = 5  # 假设我们想提取5个主题\n",
    "lda_model = LdaModel(corpus, num_topics=num_topics, id2word=dictionary, passes=15)\n",
    "\n",
    "# 将主题内容存入excel中\n",
    "topic_list = []\n",
    "for text_bow in corpus:\n",
    "    topic_distribution = lda_model[text_bow]\n",
    "    max_topic = max(topic_distribution, key=lambda x: x[1])[0]\n",
    "    topic_list.append(f\"主题{max_topic + 1}\")\n",
    "data = {'主题名': topic_list, '分词后内容': all_texts}\n",
    "df = pd.DataFrame(data)\n",
    "df = df.sort_values(by='主题名')\n",
    "df.to_excel('data主题分类后.xlsx', index=False)\n",
    "\n",
    "# 打印每个主题的关键字\n",
    "for idx, topic in lda_model.print_topics(-1):\n",
    "    print(f\"主题 {idx + 1}: {topic}\")\n",
    "print('\\n结束时间：' + str(datetime.datetime.now()))"
   ]
  },
  {
   "cell_type": "markdown",
   "id": "320ef6f2-99ca-4c6a-911d-16bbd797b1be",
   "metadata": {},
   "source": [
    "## 词共现分析"
   ]
  },
  {
   "cell_type": "code",
   "execution_count": null,
   "id": "01c331ae-36a9-4c1a-be04-b5bb678bdc4e",
   "metadata": {},
   "outputs": [],
   "source": [
    "from collections import defaultdict, Counter\n",
    "print('开始时间：' + str(datetime.datetime.now()))\n",
    "# 生成词共现矩阵\n",
    "co_occurrence_matrix = defaultdict(Counter)\n",
    "window_size = 2  # 定义窗口大小\n",
    "\n",
    "# 遍历每个句子\n",
    "for sentence in all_words:\n",
    "    # 遍历句子中的每个单词，计算窗口内的共现词\n",
    "    for i, word in enumerate(sentence):\n",
    "        for j in range(1, window_size + 1):\n",
    "            # 检查左侧共现词\n",
    "            if i - j >= 0:\n",
    "                left_word = sentence[i - j]\n",
    "                co_occurrence_matrix[word][left_word] += 1\n",
    "            # 检查右侧共现词\n",
    "            if i + j < len(sentence):\n",
    "                right_word = sentence[i + j]\n",
    "                co_occurrence_matrix[word][right_word] += 1\n",
    "\n",
    "# 定义要查询的单词列表（选取词频统计中三首歌同时出现次数最多的四个词）\n",
    "target_words = ['喜欢', '幸福', '永远', '真的']\n",
    "# 打印每个目标单词的前10名共现词及其出现次数\n",
    "for target_word in target_words:\n",
    "    if target_word in co_occurrence_matrix:\n",
    "        co_occurrences = co_occurrence_matrix[target_word]\n",
    "        sorted_co_occurrences = sorted(co_occurrences.items(), key=lambda x: x[1], reverse=True)\n",
    "        top_20_co_occurrences = sorted_co_occurrences[:10]\n",
    "        print(f'{target_word} 的前20名共现词及其出现次数:')\n",
    "        for co_word, count in top_20_co_occurrences:\n",
    "            print(f'  {co_word}: {count}',end='')\n",
    "        print()\n",
    "    else:\n",
    "        print(f'{target_word} 没有共现词。')\n",
    "\n",
    "print('\\n结束时间：' + str(datetime.datetime.now()))"
   ]
  }
 ],
 "metadata": {
  "kernelspec": {
   "display_name": "Python 3 (ipykernel)",
   "language": "python",
   "name": "python3"
  },
  "language_info": {
   "codemirror_mode": {
    "name": "ipython",
    "version": 3
   },
   "file_extension": ".py",
   "mimetype": "text/x-python",
   "name": "python",
   "nbconvert_exporter": "python",
   "pygments_lexer": "ipython3",
   "version": "3.11.7"
  }
 },
 "nbformat": 4,
 "nbformat_minor": 5
}
