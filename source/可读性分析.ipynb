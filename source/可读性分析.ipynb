{
 "cells": [
  {
   "cell_type": "code",
   "execution_count": 1,
   "id": "8c3bf9f5-8bdb-4a76-ac00-02f92d4164ff",
   "metadata": {},
   "outputs": [],
   "source": [
    "import pandas as pd\n",
    "import jieba\n",
    "import re\n",
    "import datetime\n",
    "import cntext as ct"
   ]
  },
  {
   "cell_type": "code",
   "execution_count": 2,
   "id": "afad19f7-3a61-4951-8f94-e947eb25e285",
   "metadata": {},
   "outputs": [
    {
     "name": "stdout",
     "output_type": "stream",
     "text": [
      "开始时间：2024-12-21 22:30:40.691833\n"
     ]
    },
    {
     "name": "stderr",
     "output_type": "stream",
     "text": [
      "Building prefix dict from the default dictionary ...\n",
      "Loading model from cache C:\\Users\\余明鑫\\AppData\\Local\\Temp\\jieba.cache\n"
     ]
    },
    {
     "name": "stdout",
     "output_type": "stream",
     "text": [
      "第一首歌可读性分析：\n"
     ]
    },
    {
     "name": "stderr",
     "output_type": "stream",
     "text": [
      "Loading model cost 0.489 seconds.\n",
      "Prefix dict has been built successfully.\n"
     ]
    },
    {
     "name": "stdout",
     "output_type": "stream",
     "text": [
      "{'readability1': 19.953308123326618, 'readability2': 1.6630158160589583, 'readability3': 10.808161969692788}\n",
      "\n",
      "结束时间：2024-12-21 23:15:35.494314\n"
     ]
    }
   ],
   "source": [
    "print('开始时间：' + str(datetime.datetime.now()))\n",
    "df =pd.read_csv(\"data1.csv\",encoding=\"utf-8\",header=0)\n",
    "df['评论'] = df['评论'].apply(lambda x: re.sub(r'[^，？\\u4e00-\\u9fff]', '', x))  \n",
    "all_words = [] # 创建一个空列表来存储分词结果\n",
    "for i in range(len(df)):\n",
    "    content = df.评论[i]\n",
    "    all_words.extend(content+\"。\")  # 以句号作为句子分隔符\n",
    "\n",
    "seg_str = '' \n",
    "for word in all_words:\n",
    "    seg_str += word\n",
    "\n",
    "print(\"第一首歌可读性分析：\")\n",
    "# readability1  每个分句中的平均字数\n",
    "# readability2  每个句子中副词和连词所占的比例\n",
    "# readability3  参考Fog Index， readability3=(readability1+readability2)×0.5\n",
    "print(ct.readability(seg_str, lang='chinese'))\n",
    "print('\\n结束时间：' + str(datetime.datetime.now()))"
   ]
  },
  {
   "cell_type": "code",
   "execution_count": 3,
   "id": "13611963-297e-4de3-b369-b7e99368cbf2",
   "metadata": {},
   "outputs": [
    {
     "name": "stdout",
     "output_type": "stream",
     "text": [
      "开始时间：2024-12-21 23:15:35.505720\n",
      "第二首歌可读性分析：\n",
      "{'readability1': 21.206538455178343, 'readability2': 1.7667388752005027, 'readability3': 11.486638665189423}\n",
      "\n",
      "结束时间：2024-12-21 23:20:38.303664\n"
     ]
    }
   ],
   "source": [
    "print('开始时间：' + str(datetime.datetime.now()))\n",
    "df =pd.read_csv(\"data2.csv\",encoding=\"utf-8\",header=0)\n",
    "df['评论'] = df['评论'].apply(lambda x: re.sub(r'[^，？\\u4e00-\\u9fff]', '', x))  \n",
    "all_words = []\n",
    "for i in range(len(df)):\n",
    "    content = df.评论[i]\n",
    "    all_words.extend(content+\"。\")\n",
    "\n",
    "seg_str = '' \n",
    "for word in all_words:\n",
    "    seg_str += word\n",
    "\n",
    "print(\"第二首歌可读性分析：\")\n",
    "print(ct.readability(seg_str, lang='chinese'))\n",
    "print('\\n结束时间：' + str(datetime.datetime.now()))"
   ]
  },
  {
   "cell_type": "code",
   "execution_count": 4,
   "id": "e2e90618-a684-4070-859e-b24784c59653",
   "metadata": {},
   "outputs": [
    {
     "name": "stdout",
     "output_type": "stream",
     "text": [
      "开始时间：2024-12-21 23:20:38.317711\n",
      "第三首歌可读性分析：\n",
      "{'readability1': 20.239791673599786, 'readability2': 1.6621684581849645, 'readability3': 10.950980065892375}\n",
      "\n",
      "结束时间：2024-12-21 23:25:11.968830\n"
     ]
    }
   ],
   "source": [
    "print('开始时间：' + str(datetime.datetime.now()))\n",
    "df =pd.read_csv(\"data3.csv\",encoding=\"utf-8\",header=0)\n",
    "df['评论'] = df['评论'].apply(lambda x: re.sub(r'[^，？\\u4e00-\\u9fff]', '', x))  \n",
    "all_words = []\n",
    "for i in range(len(df)):\n",
    "    content = df.评论[i]\n",
    "    all_words.extend(content+\"。\")\n",
    "\n",
    "seg_str = '' \n",
    "for word in all_words:\n",
    "    seg_str += word\n",
    "\n",
    "print(\"第三首歌可读性分析：\")\n",
    "print(ct.readability(seg_str, lang='chinese'))\n",
    "print('\\n结束时间：' + str(datetime.datetime.now()))"
   ]
  },
  {
   "cell_type": "code",
   "execution_count": 5,
   "id": "a260f0bb-5367-4b2c-91fc-abf16da4aae0",
   "metadata": {},
   "outputs": [
    {
     "name": "stdout",
     "output_type": "stream",
     "text": [
      "开始时间：2024-12-21 23:25:11.987444\n",
      "总体可读性分析：\n",
      "{'readability1': 19.953308123326618, 'readability2': 1.6630158160589583, 'readability3': 10.808161969692788}\n",
      "\n",
      "结束时间：2024-12-22 00:12:37.285730\n"
     ]
    }
   ],
   "source": [
    "print('开始时间：' + str(datetime.datetime.now()))\n",
    "df =pd.read_csv(\"data.csv\",encoding=\"utf-8\",header=0)\n",
    "df['评论'] = df['评论'].apply(lambda x: re.sub(r'[^，？\\u4e00-\\u9fff]', '', x))  \n",
    "all_words = []\n",
    "for i in range(len(df)):\n",
    "    content = df.评论[i]\n",
    "    all_words.extend(content+\"。\")\n",
    "\n",
    "seg_str = '' \n",
    "for word in all_words:\n",
    "    seg_str += word\n",
    "\n",
    "print(\"总体可读性分析：\")\n",
    "print(ct.readability(seg_str, lang='chinese'))\n",
    "print('\\n结束时间：' + str(datetime.datetime.now()))"
   ]
  }
 ],
 "metadata": {
  "kernelspec": {
   "display_name": "Python 3 (ipykernel)",
   "language": "python",
   "name": "python3"
  },
  "language_info": {
   "codemirror_mode": {
    "name": "ipython",
    "version": 3
   },
   "file_extension": ".py",
   "mimetype": "text/x-python",
   "name": "python",
   "nbconvert_exporter": "python",
   "pygments_lexer": "ipython3",
   "version": "3.11.7"
  }
 },
 "nbformat": 4,
 "nbformat_minor": 5
}
