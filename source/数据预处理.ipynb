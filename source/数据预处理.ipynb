{
 "cells": [
  {
   "cell_type": "code",
   "execution_count": null,
   "id": "455d9b0a-3857-4d50-acc4-9510f4423cb6",
   "metadata": {},
   "outputs": [],
   "source": [
    "import pandas as pd\n",
    "import re\n",
    "import jieba\n",
    "import datetime"
   ]
  },
  {
   "cell_type": "code",
   "execution_count": null,
   "id": "c5d6ac15-ee7f-4a25-bf0c-244cf2605376",
   "metadata": {},
   "outputs": [],
   "source": [
    "# 导入数据\n",
    "df = pd.read_csv(\"data.csv\",encoding=\"utf-8\")\n",
    "total_words = df['评论'].str.len().sum()\n",
    "print(total_words)"
   ]
  },
  {
   "cell_type": "code",
   "execution_count": null,
   "id": "2a35d896-338d-4f00-a91a-df4454c9a96c",
   "metadata": {},
   "outputs": [],
   "source": [
    "# 清除非中文文本\n",
    "df['评论'] = df['评论'].apply(lambda x: re.sub('[^\\u4e00-\\u9fff]', '', x))"
   ]
  },
  {
   "cell_type": "code",
   "execution_count": null,
   "id": "b547baf4-53a5-4c17-ba61-cba07dbc2f4b",
   "metadata": {},
   "outputs": [],
   "source": [
    "# 读入停用词档，并去除停用词前后空白、换行符\n",
    "stopwords=open('stopwords.txt',\"r\",encoding='UTF-8').readlines()\n",
    "stopwords = [s.strip() for s in stopwords]\n",
    "print('停用词数量：' + str(len(stopwords)))\n",
    "# 分词\n",
    "for i in range(len(df)):\n",
    "    #1.从 DataFrame 逐条读入 清理后的新闻的内容\n",
    "    content = df.评论[i]\n",
    "    #2.对新闻的内容进行分词\n",
    "    words = jieba.lcut(content)    \n",
    "    #3.去除 停用词 及 单词\n",
    "    word_cut_stopwords = words\n",
    "    for w in stopwords:\n",
    "        for j in range(len(word_cut_stopwords)-1, -1, -1):\n",
    "            if ((len(str(word_cut_stopwords[j])) == 1) or \\\n",
    "                (word_cut_stopwords[j] == w)):\n",
    "                word_cut_stopwords.pop(j) \n",
    "\n",
    "    df.loc[i, '分词后内容'] = ' '.join(word_cut_stopwords)\n",
    "\n",
    "new_total_words = df['分词后内容'].str.len().sum()\n",
    "print(new_total_words)"
   ]
  },
  {
   "cell_type": "code",
   "execution_count": null,
   "id": "99bf93bd-7f5d-4927-a943-f497110de25b",
   "metadata": {},
   "outputs": [],
   "source": [
    "# 删除空值的行\n",
    "df['分词后内容'] = df['分词后内容'].replace('', None)\n",
    "df = df.dropna(subset=['分词后内容'])\n",
    "df = df.reset_index(drop=True)\n",
    "df.describe()"
   ]
  },
  {
   "cell_type": "code",
   "execution_count": null,
   "id": "61216f86-e980-4b6a-8c28-73ee3a33a109",
   "metadata": {},
   "outputs": [],
   "source": [
    "# 将全部分词后的内容存入 Excel 档\n",
    "df.to_excel('data分词后.xlsx', header=True)"
   ]
  }
 ],
 "metadata": {
  "kernelspec": {
   "display_name": "Python 3 (ipykernel)",
   "language": "python",
   "name": "python3"
  },
  "language_info": {
   "codemirror_mode": {
    "name": "ipython",
    "version": 3
   },
   "file_extension": ".py",
   "mimetype": "text/x-python",
   "name": "python",
   "nbconvert_exporter": "python",
   "pygments_lexer": "ipython3",
   "version": "3.11.7"
  }
 },
 "nbformat": 4,
 "nbformat_minor": 5
}
